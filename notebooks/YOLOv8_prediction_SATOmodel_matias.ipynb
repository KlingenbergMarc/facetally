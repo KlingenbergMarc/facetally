{
  "cells": [
    {
      "cell_type": "code",
      "execution_count": 22,
      "metadata": {
        "id": "SL7w4QuojcyN"
      },
      "outputs": [],
      "source": [
        "from ultralytics import YOLO\n",
        "import numpy as np\n",
        "from PIL import Image\n",
        "from pillow_heif import register_heif_opener\n",
        "import requests\n",
        "from io import BytesIO\n",
        "import cv2\n",
        "import datetime\n"
      ]
    },
    {
      "cell_type": "code",
      "execution_count": 35,
      "metadata": {
        "id": "5q8pZ47QjhwH"
      },
      "outputs": [],
      "source": [
        "model = YOLO(\"yolov8n.pt\")\n",
        "image_file_path = \"trial_images/jordan_prueba.jpg\"\n"
      ]
    },
    {
      "cell_type": "code",
      "execution_count": 39,
      "metadata": {
        "colab": {
          "base_uri": "https://localhost:8080/",
          "height": 1000
        },
        "id": "s08WAcCjmh9R",
        "outputId": "85431239-4d04-429b-f78e-288d0c179f5e"
      },
      "outputs": [],
      "source": [
        "def predict_objects(image_file_path, file_save_name=None):\n",
        "\n",
        "    current_time = datetime.datetime.now().strftime(\"%Y%m%d_%H%M%S\")\n",
        "\n",
        "    if file_save_name is None:\n",
        "        save_path = f\"done_images/picture_{current_time}.jpg\"\n",
        "    else:\n",
        "        save_path = f\"done_images/picture_{file_save_name}_{current_time}.jpg\"\n",
        "\n",
        "    register_heif_opener()\n",
        "\n",
        "    imagen = Image.open(image_file_path)\n",
        "\n",
        "    results = model.predict(imagen)\n",
        "\n",
        "    result = results[0]\n",
        "    box = result.boxes[0]\n",
        "\n",
        "    for result in results:\n",
        "        boxes = result.boxes  # Boxes object for bbox outputs\n",
        "        masks = result.masks  # Masks object for segmentation masks outputs\n",
        "        probs = result.probs  # Class probabilities for classification outputs\n",
        "\n",
        "\n",
        "    cords = box.xyxy[0].tolist()\n",
        "    class_id = box.cls[0].item()\n",
        "    conf = box.conf[0].item()\n",
        "    print(\"Object type:\", class_id)\n",
        "    print(\"Coordinates:\", cords)\n",
        "    print(\"Probability:\", conf)\n",
        "\n",
        "    for box in result.boxes:\n",
        "        class_id = result.names[box.cls[0].item()]\n",
        "        cords = box.xyxy[0].tolist()\n",
        "        cords = [round(x) for x in cords]\n",
        "        conf = round(box.conf[0].item(), 2)\n",
        "        print(\"Object type:\", class_id)\n",
        "        print(\"Coordinates:\", cords)\n",
        "        print(\"Probability:\", conf)\n",
        "        print(\"---\")\n",
        "\n",
        "\n",
        "    plot = results[0].plot()\n",
        "    plot = cv2.cvtColor(plot, cv2.COLOR_BGR2RGB)\n",
        "\n",
        "    Image.fromarray(plot).save(save_path)\n",
        "    print(f\"Image saved at: {save_path}\")\n"
      ]
    },
    {
      "cell_type": "code",
      "execution_count": 40,
      "metadata": {
        "id": "L5xW1BpznFxU"
      },
      "outputs": [
        {
          "name": "stdout",
          "output_type": "stream",
          "text": [
            "\n",
            "0: 384x640 2 persons, 322.0ms\n",
            "Speed: 3.9ms preprocess, 322.0ms inference, 2.0ms postprocess per image at shape (1, 3, 384, 640)\n",
            "Object type: 0.0\n",
            "Coordinates: [501.62542724609375, 38.854644775390625, 702.8177490234375, 357.1051025390625]\n",
            "Probability: 0.9019030332565308\n",
            "Object type: person\n",
            "Coordinates: [502, 39, 703, 357]\n",
            "Probability: 0.9\n",
            "---\n",
            "Object type: person\n",
            "Coordinates: [577, 455, 620, 495]\n",
            "Probability: 0.29\n",
            "---\n",
            "Image saved at: done_images/picture_Jordan_20231128_151832.jpg\n"
          ]
        }
      ],
      "source": [
        "# Ruta de la imagen HEIC (or other format) to JPG converter\n",
        "predict_objects(image_file_path, \"Jordan\")\n"
      ]
    },
    {
      "cell_type": "code",
      "execution_count": null,
      "metadata": {},
      "outputs": [],
      "source": []
    }
  ],
  "metadata": {
    "colab": {
      "provenance": []
    },
    "kernelspec": {
      "display_name": "Python 3",
      "name": "python3"
    },
    "language_info": {
      "codemirror_mode": {
        "name": "ipython",
        "version": 3
      },
      "file_extension": ".py",
      "mimetype": "text/x-python",
      "name": "python",
      "nbconvert_exporter": "python",
      "pygments_lexer": "ipython3",
      "version": "3.10.6"
    }
  },
  "nbformat": 4,
  "nbformat_minor": 0
}
