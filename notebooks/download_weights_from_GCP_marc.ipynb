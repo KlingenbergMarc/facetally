{
 "cells": [
  {
   "cell_type": "code",
   "execution_count": 1,
   "metadata": {},
   "outputs": [],
   "source": [
    "from google.cloud import storage\n",
    "import os\n",
    "from face_tally.params import *\n"
   ]
  },
  {
   "cell_type": "code",
   "execution_count": 2,
   "metadata": {},
   "outputs": [],
   "source": [
    "folder_path = 'models/'\n"
   ]
  },
  {
   "cell_type": "code",
   "execution_count": 3,
   "metadata": {},
   "outputs": [
    {
     "name": "stdout",
     "output_type": "stream",
     "text": [
      "✅ Weights saved to GCS\n"
     ]
    }
   ],
   "source": [
    "from google.cloud import storage\n",
    "from face_tally.params import *\n",
    "\n",
    "\n",
    "def save_model(model_path) -> None:\n",
    "    model_filename = model_path.split(\"/\")[-1]\n",
    "    client = storage.Client()\n",
    "    bucket = client.bucket(BUCKET_NAME)\n",
    "    blob = bucket.blob(f\"models/{model_filename}\")\n",
    "    blob.upload_from_filename(model_path)\n",
    "\n",
    "    print(\"✅ Weights saved to GCS\")\n",
    "\n",
    "    return None\n",
    "save_model(\"/home/denis/code/LeWagonFinalProject/model.h5\")\n"
   ]
  },
  {
   "cell_type": "code",
   "execution_count": 4,
   "metadata": {},
   "outputs": [
    {
     "data": {
      "text/plain": [
       "2"
      ]
     },
     "execution_count": 4,
     "metadata": {},
     "output_type": "execute_result"
    }
   ],
   "source": [
    "# Initialize the Cloud Storage client\n",
    "storage_client = storage.Client()\n",
    "\n",
    "# Get the bucket\n",
    "bucket = storage_client.bucket(BUCKET_NAME)\n",
    "\n",
    "# Check if there is any existing blob in the folder. Return None if not\n",
    "blobs_list = list(bucket.list_blobs(prefix=folder_path))\n",
    "blob_count = len(blobs_list)\n",
    "blob_count\n"
   ]
  },
  {
   "cell_type": "code",
   "execution_count": 5,
   "metadata": {},
   "outputs": [
    {
     "data": {
      "text/plain": [
       "1"
      ]
     },
     "execution_count": 5,
     "metadata": {},
     "output_type": "execute_result"
    }
   ],
   "source": [
    "# List objects in the specified folder path\n",
    "blobs = bucket.list_blobs(prefix=folder_path)\n",
    "\n",
    "# Count the number of blobs in the folder, excluding the folder placeholder\n",
    "blob_count = sum(1 for blob in blobs if blob.name != folder_path)\n",
    "blob_count\n"
   ]
  },
  {
   "cell_type": "code",
   "execution_count": 7,
   "metadata": {},
   "outputs": [],
   "source": [
    "# Initialize the Cloud Storage client\n",
    "storage_client = storage.Client()\n",
    "\n",
    "# Get the bucket\n",
    "bucket = storage_client.bucket(BUCKET_NAME)\n",
    "\n",
    "# Check if there is any existing blob in the folder. Return None if not\n",
    "# Count the number of blobs in the folder, excluding the folder placeholder\n",
    "blobs = bucket.list_blobs(prefix=folder_path)\n",
    "blob_count = sum(1 for blob in blobs if blob.name != folder_path)\n",
    "if blob_count == 0:\n",
    "    print('empty')\n",
    "\n",
    "# List objects in the specified folder path\n",
    "blobs = bucket.list_blobs(prefix=folder_path)\n",
    "\n",
    "# Sort all file in numerical order from smaller to bigger\n",
    "# Expected file name format: models/yolo_MaP_weights.h5 (where Map is a float)\n",
    "all_files = [each.name for each in blobs if each.name != \"models/\"]\n",
    "all_files.sort(key=lambda x: float(x.split(\"_\")[1]))\n",
    "\n",
    "# Select the best model (higher MaP)\n",
    "best_blob = all_files[-1]\n"
   ]
  },
  {
   "cell_type": "code",
   "execution_count": 9,
   "metadata": {},
   "outputs": [
    {
     "data": {
      "text/plain": [
       "'models/yolo_1.2_weights.h5'"
      ]
     },
     "execution_count": 9,
     "metadata": {},
     "output_type": "execute_result"
    }
   ],
   "source": [
    "all_files[-1]\n"
   ]
  },
  {
   "cell_type": "code",
   "execution_count": 11,
   "metadata": {},
   "outputs": [
    {
     "data": {
      "text/plain": [
       "1.2"
      ]
     },
     "execution_count": 11,
     "metadata": {},
     "output_type": "execute_result"
    }
   ],
   "source": []
  }
 ],
 "metadata": {
  "kernelspec": {
   "display_name": "facetally",
   "language": "python",
   "name": "python3"
  },
  "language_info": {
   "codemirror_mode": {
    "name": "ipython",
    "version": 3
   },
   "file_extension": ".py",
   "mimetype": "text/x-python",
   "name": "python",
   "nbconvert_exporter": "python",
   "pygments_lexer": "ipython3",
   "version": "3.10.6"
  }
 },
 "nbformat": 4,
 "nbformat_minor": 2
}
