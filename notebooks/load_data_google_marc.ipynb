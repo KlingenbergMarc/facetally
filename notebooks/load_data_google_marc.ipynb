{
 "cells": [
  {
   "cell_type": "markdown",
   "metadata": {},
   "source": [
    "# Imports"
   ]
  },
  {
   "cell_type": "code",
   "execution_count": 21,
   "metadata": {},
   "outputs": [],
   "source": [
    "import os\n",
    "import pandas as pd\n",
    "from google.cloud import storage\n",
    "# import numpy as np\n",
    "# from tqdm.auto import tqdm\n",
    "# from sklearn.model_selection import train_test_split\n",
    "# from matplotlib import pyplot as plt\n",
    "# from PIL import Image\n",
    "# import cv2\n",
    "# import tensorflow as tf\n",
    "# from tensorflow import keras\n",
    "# from keras_cv import bounding_box\n",
    "# from keras_cv import visualization\n",
    "# import keras_cv\n",
    "# import shutil\n",
    "#os.chdir allows you to change directories, like cd in the Terminal\n",
    "#os.chdir('/content/drive/MyDrive/LeWagon/Notebook')\n"
   ]
  },
  {
   "cell_type": "markdown",
   "metadata": {},
   "source": [
    "# Load raw data"
   ]
  },
  {
   "cell_type": "code",
   "execution_count": 16,
   "metadata": {},
   "outputs": [],
   "source": [
    "# Project path\n",
    "project_root = os.path.dirname(os.getcwd())\n",
    "\n",
    "# Directories path\n",
    "test_image_folder = os.path.join(project_root, 'raw_data', 'image_data')\n",
    "path_annot = os.path.join(project_root, 'raw_data', 'bbox_train.csv')\n"
   ]
  },
  {
   "cell_type": "code",
   "execution_count": 17,
   "metadata": {},
   "outputs": [
    {
     "data": {
      "text/html": [
       "<div>\n",
       "<style scoped>\n",
       "    .dataframe tbody tr th:only-of-type {\n",
       "        vertical-align: middle;\n",
       "    }\n",
       "\n",
       "    .dataframe tbody tr th {\n",
       "        vertical-align: top;\n",
       "    }\n",
       "\n",
       "    .dataframe thead th {\n",
       "        text-align: right;\n",
       "    }\n",
       "</style>\n",
       "<table border=\"1\" class=\"dataframe\">\n",
       "  <thead>\n",
       "    <tr style=\"text-align: right;\">\n",
       "      <th></th>\n",
       "      <th>Name</th>\n",
       "      <th>width</th>\n",
       "      <th>height</th>\n",
       "      <th>xmin</th>\n",
       "      <th>ymin</th>\n",
       "      <th>xmax</th>\n",
       "      <th>ymax</th>\n",
       "    </tr>\n",
       "  </thead>\n",
       "  <tbody>\n",
       "    <tr>\n",
       "      <th>0</th>\n",
       "      <td>10001.jpg</td>\n",
       "      <td>612</td>\n",
       "      <td>408</td>\n",
       "      <td>192</td>\n",
       "      <td>199</td>\n",
       "      <td>230</td>\n",
       "      <td>235</td>\n",
       "    </tr>\n",
       "    <tr>\n",
       "      <th>1</th>\n",
       "      <td>10001.jpg</td>\n",
       "      <td>612</td>\n",
       "      <td>408</td>\n",
       "      <td>247</td>\n",
       "      <td>168</td>\n",
       "      <td>291</td>\n",
       "      <td>211</td>\n",
       "    </tr>\n",
       "    <tr>\n",
       "      <th>2</th>\n",
       "      <td>10001.jpg</td>\n",
       "      <td>612</td>\n",
       "      <td>408</td>\n",
       "      <td>321</td>\n",
       "      <td>176</td>\n",
       "      <td>366</td>\n",
       "      <td>222</td>\n",
       "    </tr>\n",
       "    <tr>\n",
       "      <th>3</th>\n",
       "      <td>10001.jpg</td>\n",
       "      <td>612</td>\n",
       "      <td>408</td>\n",
       "      <td>355</td>\n",
       "      <td>183</td>\n",
       "      <td>387</td>\n",
       "      <td>214</td>\n",
       "    </tr>\n",
       "    <tr>\n",
       "      <th>4</th>\n",
       "      <td>10002.jpg</td>\n",
       "      <td>612</td>\n",
       "      <td>408</td>\n",
       "      <td>339</td>\n",
       "      <td>165</td>\n",
       "      <td>378</td>\n",
       "      <td>202</td>\n",
       "    </tr>\n",
       "  </tbody>\n",
       "</table>\n",
       "</div>"
      ],
      "text/plain": [
       "        Name  width  height  xmin  ymin  xmax  ymax\n",
       "0  10001.jpg    612     408   192   199   230   235\n",
       "1  10001.jpg    612     408   247   168   291   211\n",
       "2  10001.jpg    612     408   321   176   366   222\n",
       "3  10001.jpg    612     408   355   183   387   214\n",
       "4  10002.jpg    612     408   339   165   378   202"
      ]
     },
     "execution_count": 17,
     "metadata": {},
     "output_type": "execute_result"
    }
   ],
   "source": [
    "df = pd.read_csv(path_annot)\n",
    "df.head()\n"
   ]
  },
  {
   "cell_type": "markdown",
   "metadata": {},
   "source": [
    "# Load data to Cloud Storage Bucket"
   ]
  },
  {
   "cell_type": "code",
   "execution_count": 19,
   "metadata": {},
   "outputs": [
    {
     "ename": "ImportError",
     "evalue": "cannot import name 'storage' from 'google.cloud' (unknown location)",
     "output_type": "error",
     "traceback": [
      "\u001b[0;31m---------------------------------------------------------------------------\u001b[0m",
      "\u001b[0;31mImportError\u001b[0m                               Traceback (most recent call last)",
      "\u001b[1;32m/home/klingenm/code/KlingenbergMarc/facetally/notebooks/load_data_google_marc.ipynb Cell 7\u001b[0m line \u001b[0;36m1\n\u001b[0;32m----> <a href='vscode-notebook-cell://wsl%2Bubuntu/home/klingenm/code/KlingenbergMarc/facetally/notebooks/load_data_google_marc.ipynb#X12sdnNjb2RlLXJlbW90ZQ%3D%3D?line=0'>1</a>\u001b[0m \u001b[39mfrom\u001b[39;00m \u001b[39mgoogle\u001b[39;00m\u001b[39m.\u001b[39;00m\u001b[39mcloud\u001b[39;00m \u001b[39mimport\u001b[39;00m storage\n\u001b[1;32m      <a href='vscode-notebook-cell://wsl%2Bubuntu/home/klingenm/code/KlingenbergMarc/facetally/notebooks/load_data_google_marc.ipynb#X12sdnNjb2RlLXJlbW90ZQ%3D%3D?line=2'>3</a>\u001b[0m \u001b[39m# Create a Storage client\u001b[39;00m\n\u001b[1;32m      <a href='vscode-notebook-cell://wsl%2Bubuntu/home/klingenm/code/KlingenbergMarc/facetally/notebooks/load_data_google_marc.ipynb#X12sdnNjb2RlLXJlbW90ZQ%3D%3D?line=3'>4</a>\u001b[0m storage_client \u001b[39m=\u001b[39m storage\u001b[39m.\u001b[39mClient()\n",
      "\u001b[0;31mImportError\u001b[0m: cannot import name 'storage' from 'google.cloud' (unknown location)"
     ]
    }
   ],
   "source": [
    "# Create a Storage client\n",
    "storage_client = storage.Client()\n",
    "\n",
    "# Set the name of the bucket in Google Cloud Storage\n",
    "bucket_name = 'raw_images' # BUCKET_NAME\n",
    "\n",
    "# Destination directory in the bucket\n",
    "destination_directory = 'destination/path/in/bucket/'\n",
    "\n",
    "# Create a new bucket\n",
    "bucket = storage_client.create_bucket(bucket_name)\n",
    "\n",
    "# Get the bucket\n",
    "bucket = storage_client.bucket(bucket_name)\n",
    "\n",
    "# List all files in the local directory\n",
    "for filename in os.listdir(test_image_folder):\n",
    "    if filename.endswith('.jpg') or filename.endswith('.jpeg') or filename.endswith('.png'):\n",
    "        local_image_path = os.path.join(test_image_folder, filename)\n",
    "        destination_blob_name = os.path.join(destination_directory, filename)\n",
    "\n",
    "        # Create a Blob object and upload the image file to the bucket\n",
    "        blob = bucket.blob(destination_blob_name)\n",
    "        blob.upload_from_filename(local_image_path)\n",
    "\n",
    "        print(f\"Image '{filename}' uploaded to Google Cloud Storage: {destination_blob_name}\")\n"
   ]
  },
  {
   "cell_type": "markdown",
   "metadata": {},
   "source": [
    "# Download data from BigQuery if it doesn't exist locally"
   ]
  },
  {
   "cell_type": "code",
   "execution_count": 18,
   "metadata": {},
   "outputs": [],
   "source": [
    "# Project path\n",
    "project_root = os.path.dirname(os.getcwd())\n",
    "\n",
    "# Directories path\n",
    "test_image_folder = os.path.join(project_root, 'raw_data', 'image_data')\n",
    "path_annot = os.path.join(project_root, 'raw_data', 'bbox_train')\n",
    "\n",
    "# Check if the directory already exists, create them if not\n",
    "for dir in [test_image_folder, path_annot]:\n",
    "    if not os.path.exists(dir):\n",
    "        # Create the directory if it doesn't exist\n",
    "        os.mkdir(dir)\n"
   ]
  }
 ],
 "metadata": {
  "kernelspec": {
   "display_name": "facetally",
   "language": "python",
   "name": "python3"
  },
  "language_info": {
   "codemirror_mode": {
    "name": "ipython",
    "version": 3
   },
   "file_extension": ".py",
   "mimetype": "text/x-python",
   "name": "python",
   "nbconvert_exporter": "python",
   "pygments_lexer": "ipython3",
   "version": "3.10.6"
  }
 },
 "nbformat": 4,
 "nbformat_minor": 2
}
