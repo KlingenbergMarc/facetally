{
 "cells": [
  {
   "cell_type": "code",
   "execution_count": 6,
   "metadata": {},
   "outputs": [
    {
     "ename": "TypeError",
     "evalue": "'module' object is not callable",
     "output_type": "error",
     "traceback": [
      "\u001b[0;31m---------------------------------------------------------------------------\u001b[0m",
      "\u001b[0;31mTypeError\u001b[0m                                 Traceback (most recent call last)",
      "\u001b[1;32m/home/denis/code/LeWagonFinalProject/notebooks/prefect_credentials_test.ipynb Cell 1\u001b[0m line \u001b[0;36m3\n\u001b[1;32m      <a href='vscode-notebook-cell://wsl%2Bubuntu/home/denis/code/LeWagonFinalProject/notebooks/prefect_credentials_test.ipynb#W0sdnNjb2RlLXJlbW90ZQ%3D%3D?line=0'>1</a>\u001b[0m \u001b[39mfrom\u001b[39;00m \u001b[39mface_tally\u001b[39;00m\u001b[39m.\u001b[39;00m\u001b[39mcredentials\u001b[39;00m \u001b[39mimport\u001b[39;00m \u001b[39m*\u001b[39m\n\u001b[0;32m----> <a href='vscode-notebook-cell://wsl%2Bubuntu/home/denis/code/LeWagonFinalProject/notebooks/prefect_credentials_test.ipynb#W0sdnNjb2RlLXJlbW90ZQ%3D%3D?line=2'>3</a>\u001b[0m \u001b[39mawait\u001b[39;00m create_google_cloud_client()\n",
      "File \u001b[0;32m~/code/LeWagonFinalProject/face_tally/credentials.py:13\u001b[0m, in \u001b[0;36mcreate_google_cloud_client\u001b[0;34m()\u001b[0m\n\u001b[1;32m     11\u001b[0m \u001b[39masync\u001b[39;00m \u001b[39mdef\u001b[39;00m \u001b[39mcreate_google_cloud_client\u001b[39m():\n\u001b[1;32m     12\u001b[0m     credentials \u001b[39m=\u001b[39m \u001b[39mawait\u001b[39;00m load_google_credentials()\n\u001b[0;32m---> 13\u001b[0m     client \u001b[39m=\u001b[39m storage\u001b[39m.\u001b[39;49mclient(credentials\u001b[39m=\u001b[39;49mcredentials)\n\u001b[1;32m     14\u001b[0m     \u001b[39mreturn\u001b[39;00m client\n",
      "\u001b[0;31mTypeError\u001b[0m: 'module' object is not callable"
     ]
    }
   ],
   "source": [
    "from face_tally.credentials import *\n",
    "\n",
    "await create_google_cloud_client()\n"
   ]
  },
  {
   "cell_type": "code",
   "execution_count": 1,
   "metadata": {},
   "outputs": [],
   "source": [
    "from prefect_gcp import GcpCredentials\n",
    "from google.cloud import storage\n",
    "from face_tally.params import *\n",
    "\n",
    "\n",
    "gcp_credentials = await GcpCredentials.load(PREFECT_BLOCK)\n",
    "creds = gcp_credentials.get_credentials_from_service_account()\n"
   ]
  },
  {
   "cell_type": "code",
   "execution_count": 3,
   "metadata": {},
   "outputs": [
    {
     "data": {
      "text/plain": [
       "<google.oauth2.service_account.Credentials at 0x7ff9383c11b0>"
      ]
     },
     "execution_count": 3,
     "metadata": {},
     "output_type": "execute_result"
    }
   ],
   "source": []
  },
  {
   "cell_type": "code",
   "execution_count": 2,
   "metadata": {},
   "outputs": [
    {
     "ename": "TypeError",
     "evalue": "'module' object is not callable",
     "output_type": "error",
     "traceback": [
      "\u001b[0;31m---------------------------------------------------------------------------\u001b[0m",
      "\u001b[0;31mTypeError\u001b[0m                                 Traceback (most recent call last)",
      "\u001b[1;32m/home/denis/code/LeWagonFinalProject/notebooks/prefect_credentials_test.ipynb Cell 3\u001b[0m line \u001b[0;36m1\n\u001b[0;32m----> <a href='vscode-notebook-cell://wsl%2Bubuntu/home/denis/code/LeWagonFinalProject/notebooks/prefect_credentials_test.ipynb#W2sdnNjb2RlLXJlbW90ZQ%3D%3D?line=0'>1</a>\u001b[0m storage\u001b[39m.\u001b[39;49mclient(credentials\u001b[39m=\u001b[39;49mcreds)\n",
      "\u001b[0;31mTypeError\u001b[0m: 'module' object is not callable"
     ]
    }
   ],
   "source": [
    "storage.client(credentials=creds)\n"
   ]
  },
  {
   "cell_type": "code",
   "execution_count": 11,
   "metadata": {},
   "outputs": [
    {
     "data": {
      "text/plain": [
       "'facetallygcp'"
      ]
     },
     "execution_count": 11,
     "metadata": {},
     "output_type": "execute_result"
    }
   ],
   "source": [
    "PREFECT_BLOCK\n"
   ]
  },
  {
   "cell_type": "code",
   "execution_count": null,
   "metadata": {},
   "outputs": [],
   "source": []
  }
 ],
 "metadata": {
  "kernelspec": {
   "display_name": "facetally",
   "language": "python",
   "name": "python3"
  },
  "language_info": {
   "codemirror_mode": {
    "name": "ipython",
    "version": 3
   },
   "file_extension": ".py",
   "mimetype": "text/x-python",
   "name": "python",
   "nbconvert_exporter": "python",
   "pygments_lexer": "ipython3",
   "version": "3.10.6"
  }
 },
 "nbformat": 4,
 "nbformat_minor": 2
}
