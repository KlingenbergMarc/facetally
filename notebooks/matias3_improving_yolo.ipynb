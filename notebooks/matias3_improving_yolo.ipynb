{
 "cells": [
  {
   "cell_type": "code",
   "execution_count": 1,
   "metadata": {},
   "outputs": [
    {
     "name": "stderr",
     "output_type": "stream",
     "text": [
      "/home/matias/.pyenv/versions/3.10.6/envs/facetally/lib/python3.10/site-packages/tqdm/auto.py:21: TqdmWarning: IProgress not found. Please update jupyter and ipywidgets. See https://ipywidgets.readthedocs.io/en/stable/user_install.html\n",
      "  from .autonotebook import tqdm as notebook_tqdm\n"
     ]
    }
   ],
   "source": [
    "from ultralytics import YOLO\n",
    "import numpy as np\n",
    "from PIL import Image\n",
    "from pillow_heif import register_heif_opener\n",
    "import requests\n",
    "from io import BytesIO\n",
    "import cv2\n",
    "import datetime\n",
    "import matplotlib.pyplot as plt\n"
   ]
  },
  {
   "cell_type": "code",
   "execution_count": 2,
   "metadata": {},
   "outputs": [],
   "source": [
    "model = YOLO(\"yolov8n.pt\")\n",
    "\n",
    "\n",
    "image_file_path = \"trial_images/IMG_4194.HEIC\"\n",
    "\n",
    "register_heif_opener() # In case if its an iphone picture\n",
    "\n",
    "image = Image.open(image_file_path)\n",
    "array_image = np.array(image)\n"
   ]
  },
  {
   "cell_type": "code",
   "execution_count": 15,
   "metadata": {},
   "outputs": [
    {
     "name": "stdout",
     "output_type": "stream",
     "text": [
      "\n",
      "0: 640x480 5 persons, 3 laptops, 300.6ms\n",
      "Speed: 8.3ms preprocess, 300.6ms inference, 4.8ms postprocess per image at shape (1, 3, 640, 480)\n"
     ]
    }
   ],
   "source": [
    "results = model.predict(image)\n",
    "\n",
    "result = results[0]\n",
    "box = result.boxes[0]\n",
    "\n",
    "bound_boxes = []\n",
    "\n",
    "for box in result.boxes:\n",
    "\n",
    "    predicted_class = box.cls[0]\n",
    "\n",
    "    if predicted_class.item() != 0.0:\n",
    "        continue\n",
    "\n",
    "    cordenadas_xywh = box.xyxy[0].tolist()\n",
    "    # cords = [round(x) for x in cords]   ¿cordinates rounded?\n",
    "\n",
    "    class_name = result.names[predicted_class.item()]\n",
    "\n",
    "    confidence = round(box.conf[0].item(), 2)\n",
    "\n",
    "    dict = {\"Object type\" : class_name,\n",
    "    \"Coordinates\" : cordenadas_xywh,\n",
    "    \"Probability\" : confidence}\n",
    "\n",
    "    bound_boxes.append(dict)\n"
   ]
  },
  {
   "cell_type": "code",
   "execution_count": 16,
   "metadata": {},
   "outputs": [
    {
     "data": {
      "text/plain": [
       "[{'Object type': 'person',\n",
       "  'Coordinates': [1338.0108642578125,\n",
       "   904.3993530273438,\n",
       "   1936.21044921875,\n",
       "   1765.5042724609375],\n",
       "  'Probability': 0.9},\n",
       " {'Object type': 'person',\n",
       "  'Coordinates': [0.03357238695025444,\n",
       "   1834.2020263671875,\n",
       "   1816.9735107421875,\n",
       "   3086.4951171875],\n",
       "  'Probability': 0.87},\n",
       " {'Object type': 'person',\n",
       "  'Coordinates': [1885.5869140625,\n",
       "   1123.1693115234375,\n",
       "   2314.75341796875,\n",
       "   1904.03759765625],\n",
       "  'Probability': 0.76},\n",
       " {'Object type': 'person',\n",
       "  'Coordinates': [0.0, 1267.34814453125, 648.3640747070312, 3045.14453125],\n",
       "  'Probability': 0.45},\n",
       " {'Object type': 'person',\n",
       "  'Coordinates': [2170.236083984375,\n",
       "   1013.1173095703125,\n",
       "   2314.58837890625,\n",
       "   1336.486572265625],\n",
       "  'Probability': 0.29}]"
      ]
     },
     "execution_count": 16,
     "metadata": {},
     "output_type": "execute_result"
    }
   ],
   "source": [
    "bound_boxes\n"
   ]
  },
  {
   "cell_type": "code",
   "execution_count": null,
   "metadata": {},
   "outputs": [],
   "source": []
  }
 ],
 "metadata": {
  "kernelspec": {
   "display_name": "facetally",
   "language": "python",
   "name": "python3"
  },
  "language_info": {
   "codemirror_mode": {
    "name": "ipython",
    "version": 3
   },
   "file_extension": ".py",
   "mimetype": "text/x-python",
   "name": "python",
   "nbconvert_exporter": "python",
   "pygments_lexer": "ipython3",
   "version": "3.10.6"
  }
 },
 "nbformat": 4,
 "nbformat_minor": 2
}
